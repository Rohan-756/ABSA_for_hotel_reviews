{
  "nbformat": 4,
  "nbformat_minor": 0,
  "metadata": {
    "colab": {
      "provenance": []
    },
    "kernelspec": {
      "name": "python3",
      "display_name": "Python 3"
    },
    "language_info": {
      "name": "python"
    }
  },
  "cells": [
    {
      "cell_type": "code",
      "execution_count": 1,
      "metadata": {
        "colab": {
          "base_uri": "https://localhost:8080/"
        },
        "id": "LsnKKv3tq5NG",
        "outputId": "cb98e41b-0dbb-44e9-d9cd-8c0913422529"
      },
      "outputs": [
        {
          "output_type": "stream",
          "name": "stdout",
          "text": [
            "Drive already mounted at /content/drive; to attempt to forcibly remount, call drive.mount(\"/content/drive\", force_remount=True).\n",
            "    hotel_id                           user_id  \\\n",
            "0  127781101  2262DCBFC351F42A9DD30AC8BAD24686   \n",
            "1  137380592  8477E11DABF4D6743885E401BB4C8CCF   \n",
            "2  129673371  483A193B7113ADFFD5CE30849564F69C   \n",
            "3  129006626  E5A63DD7239A7057746D4644A5C986EB   \n",
            "4  139168159  CBFE281C9386225267BC52518836A6C2   \n",
            "\n",
            "                                               title  \\\n",
            "0                            Really excellent Hilton   \n",
            "1                    Exceptional service and comfort   \n",
            "2                    Nice room and five star service   \n",
            "3  BRILLIANT hotel, my #1 Chicago pick for busine...   \n",
            "4                         Convenient and comfortable   \n",
            "\n",
            "                                                text  overall  cleanliness  \\\n",
            "0  Stayed here on business trips and the hotel is...      5.0          4.0   \n",
            "1  Spent two nights here for a wedding in Brookly...      5.0          5.0   \n",
            "2  Great place for a 3-night stay. Our king room ...      5.0          5.0   \n",
            "3  This is my favorite hotel in Chicago, and I've...      5.0          5.0   \n",
            "4  BEST. BREAKFAST. EVER. Couldn't have been happ...      5.0          5.0   \n",
            "\n",
            "   value  location  rooms  sleep_quality  stay_year   post_date  freq  \\\n",
            "0    5.0       4.0    5.0            4.0       2012  2012-04-13     1   \n",
            "1    4.0       5.0    4.0            5.0       2012  2012-08-16     1   \n",
            "2    5.0       3.0    5.0            4.0       2012  2012-05-09     1   \n",
            "3    5.0       5.0    5.0            5.0       2012  2012-04-28     1   \n",
            "4    4.0       5.0    4.0            5.0       2012  2012-09-02     1   \n",
            "\n",
            "                                              review  char         lang  \n",
            "0  Really excellent Hilton\\nStayed here on busine...   204  __label__en  \n",
            "1  Exceptional service and comfort\\nSpent two nig...   621  __label__en  \n",
            "2  Nice room and five star service\\nGreat place f...  1259  __label__en  \n",
            "3  BRILLIANT hotel, my #1 Chicago pick for busine...  2242  __label__en  \n",
            "4  Convenient and comfortable\\nBEST. BREAKFAST. E...   511  __label__en  \n",
            "<class 'pandas.core.frame.DataFrame'>\n",
            "RangeIndex: 201295 entries, 0 to 201294\n",
            "Data columns (total 16 columns):\n",
            " #   Column         Non-Null Count   Dtype  \n",
            "---  ------         --------------   -----  \n",
            " 0   hotel_id       201295 non-null  int64  \n",
            " 1   user_id        201295 non-null  object \n",
            " 2   title          201292 non-null  object \n",
            " 3   text           201295 non-null  object \n",
            " 4   overall        201295 non-null  float64\n",
            " 5   cleanliness    201295 non-null  float64\n",
            " 6   value          201295 non-null  float64\n",
            " 7   location       201295 non-null  float64\n",
            " 8   rooms          201295 non-null  float64\n",
            " 9   sleep_quality  201295 non-null  float64\n",
            " 10  stay_year      201295 non-null  int64  \n",
            " 11  post_date      201295 non-null  object \n",
            " 12  freq           201295 non-null  int64  \n",
            " 13  review         201295 non-null  object \n",
            " 14  char           201295 non-null  int64  \n",
            " 15  lang           201295 non-null  object \n",
            "dtypes: float64(6), int64(4), object(6)\n",
            "memory usage: 24.6+ MB\n",
            "None\n"
          ]
        }
      ],
      "source": [
        "import pandas as pd\n",
        "\n",
        "from google.colab import drive\n",
        "drive.mount('/content/drive')\n",
        "\n",
        "\n",
        "df = pd.read_csv('/content/drive/MyDrive/tripadvisor_aspect_reviews.csv')\n",
        "\n",
        "print(df.head())\n",
        "print(df.info())\n"
      ]
    }
  ]
}